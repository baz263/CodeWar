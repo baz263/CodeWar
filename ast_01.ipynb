{
 "cells": [
  {
   "cell_type": "code",
   "execution_count": 52,
   "metadata": {},
   "outputs": [
    {
     "name": "stdout",
     "output_type": "stream",
     "text": [
      "<ast.Module object at 0x105749180>\n",
      "Module(body=[FunctionDef(name='add', args=arguments(posonlyargs=[], args=[arg(arg='x'), arg(arg='y')], kwonlyargs=[], kw_defaults=[], defaults=[]), body=[Return(value=BinOp(left=Name(id='x', ctx=Load()), op=Add(), right=Name(id='y', ctx=Load())))], decorator_list=[])], type_ignores=[])\n",
      "FunctionDef(name='add', args=arguments(posonlyargs=[], args=[arg(arg='x'), arg(arg='y')], kwonlyargs=[], kw_defaults=[], defaults=[]), body=[Return(value=BinOp(left=Name(id='x', ctx=Load()), op=Add(), right=Name(id='y', ctx=Load())))], decorator_list=[])\n",
      "arguments(posonlyargs=[], args=[arg(arg='x'), arg(arg='y')], kwonlyargs=[], kw_defaults=[], defaults=[])\n",
      "Return(value=BinOp(left=Name(id='x', ctx=Load()), op=Add(), right=Name(id='y', ctx=Load())))\n",
      "arg(arg='x')\n",
      "arg(arg='y')\n",
      "BinOp(left=Name(id='x', ctx=Load()), op=Add(), right=Name(id='y', ctx=Load()))\n",
      "Name(id='x', ctx=Load())\n",
      "Add()\n",
      "Name(id='y', ctx=Load())\n",
      "Load()\n",
      "Load()\n"
     ]
    }
   ],
   "source": [
    "import ast\n",
    "import re\n",
    "\n",
    "# def describe_fn(source):\n",
    "#     tree = ast.parse(source)\n",
    "#     for node in ast.walk(tree):\n",
    "#         if isinstance(node, ast.FunctionDef):\n",
    "#             name = node.name\n",
    "#     function_def = next(node for node in ast.walk(tree) if isinstance(node, ast.FunctionDef))\n",
    "#     return_statement = next((node for node in function_def.body if isinstance(node, ast.Return)), None)\n",
    "#     if return_statement:\n",
    "#         return_value = return_statement.value\n",
    "#         return_value = getattr(return_value, 'annotation', None)\n",
    "#     arguments = function_def.args\n",
    "#     arg_names = [arg.arg for arg in arguments.args]\n",
    "#     print(return_value)\n",
    "#     print(arg_names)\n",
    "#     print(name)\n",
    "def describe_fn(source):\n",
    "    tree = ast.parse(source)\n",
    "    print(tree)\n",
    "    for node in ast.walk(tree):\n",
    "        \n",
    "        print(ast.dump(node))\n",
    "        # if isinstance(node, ast.FunctionDef):\n",
    "        #     name = node.name\n",
    "        # if isinstance(node, ast.arguments):\n",
    "        #     for val in node.args:\n",
    "                #print(val)\n",
    "        #if isinstance(node, ast.Return):\n",
    "            #pass\n",
    "    \n",
    "    \n",
    "\n",
    "\n",
    "            \n",
    "        \n",
    "\n",
    "            \n",
    "  \n",
    "\n",
    "describe_fn(\"def add(x, y): return x+y\")"
   ]
  }
 ],
 "metadata": {
  "kernelspec": {
   "display_name": "base",
   "language": "python",
   "name": "python3"
  },
  "language_info": {
   "codemirror_mode": {
    "name": "ipython",
    "version": 3
   },
   "file_extension": ".py",
   "mimetype": "text/x-python",
   "name": "python",
   "nbconvert_exporter": "python",
   "pygments_lexer": "ipython3",
   "version": "3.11.0"
  }
 },
 "nbformat": 4,
 "nbformat_minor": 2
}

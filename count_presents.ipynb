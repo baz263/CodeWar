{
 "cells": [
  {
   "cell_type": "code",
   "execution_count": 64,
   "metadata": {},
   "outputs": [],
   "source": [
    "from datetime import timedelta\n",
    "def count_presents(prod, presents):\n",
    "    presents = sorted(presents)\n",
    "    total_time = timedelta(hours=0, minutes=0, seconds=0)\n",
    "    days_available = sum(prod.values())\n",
    "    time_available = timedelta(days=days_available)\n",
    "    print(f'time_available: {time_available}')\n",
    "    \n",
    "    #print(time_available)\n",
    "    for val in range(1, len(presents)+1):\n",
    "        \n",
    "        #print(presents[val-1].split(':')[2])\n",
    "        total_time += timedelta(hours = int(presents[val-1].split(':')[0]), minutes = int(presents[val-1].split(':')[1]), seconds = int(presents[val-1].split(':')[2]))\n",
    "        \n",
    "        if total_time > time_available:\n",
    "            return val -1\n",
    "    return len(presents)\n",
    "        # total_time += timedelta(presents[val-1])\n",
    "        # print(total_time)\n",
    "\n"
   ]
  },
  {
   "cell_type": "code",
   "execution_count": 54,
   "metadata": {},
   "outputs": [],
   "source": [
    "prod = {'Santa': 2, 'elf_0': 3, 'elf_1': 1, 'elf_2': 1, 'elf_3': 3, 'elf_4': 3, 'elf_5': 3}\n",
    "presents = ['21:42:42', '10:36:13', '06:27:07', '17:22:28', '12:27:08', '13:05:57', '15:40:15', '20:53:39', '17:29:09', '04:47:15', '13:38:28', '09:17:37', '22:19:34', '04:08:27', '08:13:58', '01:25:51', '18:04:33', '23:15:45', '11:14:58', '12:37:25', '09:43:59', '08:24:49', '22:50:19', '02:47:56']"
   ]
  },
  {
   "cell_type": "code",
   "execution_count": 65,
   "metadata": {},
   "outputs": [
    {
     "name": "stdout",
     "output_type": "stream",
     "text": [
      "time_available: 16 days, 0:00:00\n"
     ]
    },
    {
     "data": {
      "text/plain": [
       "24"
      ]
     },
     "execution_count": 65,
     "metadata": {},
     "output_type": "execute_result"
    }
   ],
   "source": [
    "count_presents(prod, presents)"
   ]
  }
 ],
 "metadata": {
  "kernelspec": {
   "display_name": "base",
   "language": "python",
   "name": "python3"
  },
  "language_info": {
   "codemirror_mode": {
    "name": "ipython",
    "version": 3
   },
   "file_extension": ".py",
   "mimetype": "text/x-python",
   "name": "python",
   "nbconvert_exporter": "python",
   "pygments_lexer": "ipython3",
   "version": "3.11.0"
  }
 },
 "nbformat": 4,
 "nbformat_minor": 2
}

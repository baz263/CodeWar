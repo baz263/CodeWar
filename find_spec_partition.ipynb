{
 "cells": [
  {
   "cell_type": "code",
   "execution_count": 92,
   "metadata": {},
   "outputs": [],
   "source": [
    "def find_spec_partition(n, k, com):\n",
    "    start_lst = []\n",
    "    for i in range(n-k+1,k-1,-1):\n",
    "        start_lst.append(i)\n",
    "        print(f'first number {i}')\n",
    "\n",
    "        for j in range(1, n-i):\n",
    "            print(f'second number {j}')\n",
    "\n",
    "            for m in range(1, n-i-j):\n",
    "                print(f'third number {m}')\n",
    "\n",
    "                for n in range(1, n-i-j-m):\n",
    "                    print(f'fourth number {n}')\n",
    "\n",
    "        print('____')\n",
    "    \n",
    "    pass"
   ]
  },
  {
   "cell_type": "code",
   "execution_count": 93,
   "metadata": {},
   "outputs": [
    {
     "name": "stdout",
     "output_type": "stream",
     "text": [
      "first number 7\n",
      "second number 1\n",
      "third number 1\n",
      "second number 2\n",
      "____\n",
      "first number 6\n",
      "second number 1\n",
      "third number 1\n",
      "fourth number 1\n",
      "third number 2\n",
      "second number 2\n",
      "second number 3\n",
      "____\n",
      "first number 5\n",
      "____\n",
      "first number 4\n",
      "____\n"
     ]
    }
   ],
   "source": [
    "find_spec_partition(10,4,'min')"
   ]
  }
 ],
 "metadata": {
  "kernelspec": {
   "display_name": "base",
   "language": "python",
   "name": "python3"
  },
  "language_info": {
   "codemirror_mode": {
    "name": "ipython",
    "version": 3
   },
   "file_extension": ".py",
   "mimetype": "text/x-python",
   "name": "python",
   "nbconvert_exporter": "python",
   "pygments_lexer": "ipython3",
   "version": "3.11.0"
  }
 },
 "nbformat": 4,
 "nbformat_minor": 2
}

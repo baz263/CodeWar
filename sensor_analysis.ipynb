{
 "cells": [
  {
   "cell_type": "code",
   "execution_count": 12,
   "metadata": {},
   "outputs": [],
   "source": [
    "import pandas as pd\n",
    "def sensor_analysis(sensor_data):\n",
    "    df = pd.DataFrame(sensor_data)\n",
    "    return (round(df[1].mean(),4), round(df[1].std(),4))"
   ]
  },
  {
   "cell_type": "code",
   "execution_count": 3,
   "metadata": {},
   "outputs": [],
   "source": [
    "sensor_data1 = [('Distance:', 116.28, 'Meters', 'Sensor 5 malfunction =>lorimar'), \n",
    "                        ('Distance:', 117.1, 'Meters', 'Sensor 5 malfunction =>lorimar'), \n",
    "                        ('Distance:', 123.96, 'Meters', 'Sensor 5 malfunction =>lorimar'), \n",
    "                        ('Distance:', 117.17, 'Meters', 'Sensor 5 malfunction =>lorimar')]"
   ]
  },
  {
   "cell_type": "code",
   "execution_count": 13,
   "metadata": {},
   "outputs": [
    {
     "data": {
      "text/plain": [
       "(118.6275, 3.5779)"
      ]
     },
     "execution_count": 13,
     "metadata": {},
     "output_type": "execute_result"
    }
   ],
   "source": [
    "sensor_analysis(sensor_data1)"
   ]
  }
 ],
 "metadata": {
  "kernelspec": {
   "display_name": "base",
   "language": "python",
   "name": "python3"
  },
  "language_info": {
   "codemirror_mode": {
    "name": "ipython",
    "version": 3
   },
   "file_extension": ".py",
   "mimetype": "text/x-python",
   "name": "python",
   "nbconvert_exporter": "python",
   "pygments_lexer": "ipython3",
   "version": "3.11.0"
  }
 },
 "nbformat": 4,
 "nbformat_minor": 2
}

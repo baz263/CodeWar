{
 "cells": [
  {
   "cell_type": "code",
   "execution_count": 30,
   "metadata": {},
   "outputs": [],
   "source": [
    "def decode(code, key):\n",
    "    abc_dict = {\n",
    "        1: 'a', 2:'b', 3:'c', 4:'d', 5:'e', 6:'f', 7:'g', 8:'h', 9:'i', 10:'j', 11:'k', 12:'l', 13:'m', 14:'n', 15:'o', 16:'p', 17:'q', 18:'r', 19:'s', 20:'t', 21:'u', 22:'v', 23:'w', 24:'x', 25:'y', 26:'z'\n",
    "    }\n",
    "    key_removed = []\n",
    "    for val in range(len(code)):\n",
    "        print(f'number to be subtracted: {val%len(str(key))}')\n",
    "        key_removed.append(code[val] - int(str(key)[val%len(str(key))]))\n",
    "        #code[val]- key[val]\n",
    "    print(key_removed)\n",
    "    decoded = []\n",
    "    for val in key_removed:\n",
    "        decoded.append(abc_dict[val])\n",
    "    return ''.join(decoded)"
   ]
  },
  {
   "cell_type": "code",
   "execution_count": 31,
   "metadata": {},
   "outputs": [
    {
     "name": "stdout",
     "output_type": "stream",
     "text": [
      "number to be subtracted: 0\n",
      "number to be subtracted: 1\n",
      "number to be subtracted: 2\n",
      "number to be subtracted: 3\n",
      "number to be subtracted: 0\n",
      "[19, 3, 15, 21, 20]\n"
     ]
    },
    {
     "data": {
      "text/plain": [
       "'scout'"
      ]
     },
     "execution_count": 31,
     "metadata": {},
     "output_type": "execute_result"
    }
   ],
   "source": [
    "decode([20, 12, 18, 30, 21], 1939)"
   ]
  }
 ],
 "metadata": {
  "kernelspec": {
   "display_name": "base",
   "language": "python",
   "name": "python3"
  },
  "language_info": {
   "codemirror_mode": {
    "name": "ipython",
    "version": 3
   },
   "file_extension": ".py",
   "mimetype": "text/x-python",
   "name": "python",
   "nbconvert_exporter": "python",
   "pygments_lexer": "ipython3",
   "version": "3.11.0"
  }
 },
 "nbformat": 4,
 "nbformat_minor": 2
}

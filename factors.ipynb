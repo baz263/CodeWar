{
 "cells": [
  {
   "cell_type": "code",
   "execution_count": 1,
   "metadata": {},
   "outputs": [],
   "source": [
    "from sympy import divisors\n"
   ]
  },
  {
   "cell_type": "code",
   "execution_count": 2,
   "metadata": {},
   "outputs": [
    {
     "name": "stdout",
     "output_type": "stream",
     "text": [
      "[1, 2, 3, 4, 6, 12]\n"
     ]
    }
   ],
   "source": [
    "print(divisors(12))  # Prints: [1, 2, 3, 4, 6, 12]"
   ]
  },
  {
   "cell_type": "code",
   "execution_count": 62,
   "metadata": {},
   "outputs": [],
   "source": [
    "def factors(n):\n",
    "    divsors_list= []\n",
    "    for val in range(1,n+1):\n",
    "        if n % val == 0:\n",
    "            divsors_list.append(val)\n",
    "    answer_array = [[],[]]\n",
    "    for i in divsors_list:\n",
    "        if round(i**(1./2))**2 == i and round(i**(1./2))**2 != 1:\n",
    "            answer_array[0].append(round(i**(1./2)))\n",
    "        elif round(i**(1./3))**3 == i and round(i**(1./3))**3 != 1:\n",
    "            \n",
    "            answer_array[1].append(round(i**(1./3)))\n",
    "    print(divsors_list)\n",
    "    return answer_array"
   ]
  },
  {
   "cell_type": "code",
   "execution_count": 63,
   "metadata": {},
   "outputs": [
    {
     "name": "stdout",
     "output_type": "stream",
     "text": [
      "2\n",
      "[1, 2, 3, 4, 6, 8, 12, 16, 24, 32, 48, 64, 96, 192, 719, 1438, 2157, 2876, 4314, 5752, 8628, 11504, 17256, 23008, 34512, 46016, 69024, 138048]\n"
     ]
    },
    {
     "data": {
      "text/plain": [
       "[[2, 4, 8], [2]]"
      ]
     },
     "execution_count": 63,
     "metadata": {},
     "output_type": "execute_result"
    }
   ],
   "source": [
    "factors(138048)"
   ]
  }
 ],
 "metadata": {
  "kernelspec": {
   "display_name": "base",
   "language": "python",
   "name": "python3"
  },
  "language_info": {
   "codemirror_mode": {
    "name": "ipython",
    "version": 3
   },
   "file_extension": ".py",
   "mimetype": "text/x-python",
   "name": "python",
   "nbconvert_exporter": "python",
   "pygments_lexer": "ipython3",
   "version": "3.11.0"
  }
 },
 "nbformat": 4,
 "nbformat_minor": 2
}

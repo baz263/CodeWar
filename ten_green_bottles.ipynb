{
 "cells": [
  {
   "cell_type": "code",
   "execution_count": 56,
   "metadata": {},
   "outputs": [],
   "source": [
    "def ten_green_bottles(n):\n",
    "    value_dict = {\n",
    "        1: 'one',\n",
    "        2: 'two',\n",
    "        3: 'three',\n",
    "        4: 'four',\n",
    "        5: 'five',\n",
    "        6: 'six',\n",
    "        7: 'seven',\n",
    "        8: 'eight',\n",
    "        9: 'nine',\n",
    "        10: 'ten'\n",
    "    }\n",
    "    result = ''\n",
    "    while n > 2:\n",
    "        capital_num = value_dict[n].capitalize()\n",
    "        result += f\"{capital_num} green bottles hanging on the wall,\\n\"\n",
    "        result += f\"{capital_num} green bottles hanging on the wall,\\n\"\n",
    "        result += f\"And if one green bottle should accidentally fall,\\n\"\n",
    "        result += f\"There'll be {value_dict[n-1]} green bottles hanging on the wall.\\n\"\n",
    "        result += '\\n'\n",
    "        n -= 1\n",
    "    \n",
    "    if n == 2:\n",
    "        result += \"Two green bottles hanging on the wall,\\nTwo green bottles hanging on the wall,\\nAnd if one green bottle should accidentally fall,\\nThere'll be one green bottle hanging on the wall.\\n\"\n",
    "        result += '\\n'\n",
    "    \n",
    "    result += f\"One green bottle hanging on the wall,\\nOne green bottle hanging on the wall,\\nIf that one green bottle should accidentally fall,\\nThere'll be no green bottles hanging on the wall.\\n\"\n",
    "    \n",
    "    return result\n",
    "        "
   ]
  },
  {
   "cell_type": "code",
   "execution_count": 59,
   "metadata": {},
   "outputs": [
    {
     "name": "stdout",
     "output_type": "stream",
     "text": [
      "Three green bottles hanging on the wall,\n",
      "Three green bottles hanging on the wall, \n",
      "And if one green bottle should accidentally fall, \n",
      "there'll be two green bottles hanging on the wall.\n",
      "\n",
      "Two green bottles hanging on the wall,\n",
      "Two green bottles hanging on the wall,\n",
      "And if one green bottle should accidentally fall,\n",
      "There'll be one green bottle hanging on the wall.\n",
      "\n",
      "One green bottle hanging on the wall,\n",
      "One green bottle hanging on the wall,\n",
      "If that one green bottle should accidentally fall,\n",
      "There'll be no green bottles hanging on the wall.\n",
      "\n"
     ]
    }
   ],
   "source": [
    "print(ten_green_bottles(3))"
   ]
  },
  {
   "cell_type": "code",
   "execution_count": 60,
   "metadata": {},
   "outputs": [
    {
     "ename": "SyntaxError",
     "evalue": "unterminated string literal (detected at line 1) (2640906685.py, line 1)",
     "output_type": "error",
     "traceback": [
      "\u001b[0;36m  Cell \u001b[0;32mIn[60], line 1\u001b[0;36m\u001b[0m\n\u001b[0;31m    \"Three green bottles hanging on the wall,\\n\u001b[0m\n\u001b[0m    ^\u001b[0m\n\u001b[0;31mSyntaxError\u001b[0m\u001b[0;31m:\u001b[0m unterminated string literal (detected at line 1)\n"
     ]
    }
   ],
   "source": [
    "\"Three green bottles hanging on the wall,\\n\n",
    "Three green bottles hanging on the wall,\\n \n",
    "Three green bottles hanging on the wall, \\n\n",
    "\"Three green bottles hanging on the wall,\\n\n",
    "And if one green bottle should accidentally fall, \\n\n",
    "And if one green bottle should accidentally fall,\\n\n",
    "there'll be two green bottles hanging on the wall.\\n\n",
    "\\n\n",
    "Two green bottles hanging on the wall,\\n\n",
    "Two green bottles hanging on the wall,\\n\n",
    "And if one green bottle should accidentally fall,\\n\n",
    "There'll be one green bottle hanging on the wall.\\n\n",
    "\\n\n",
    "One green bottle hanging on the wall,\\n\n",
    "One green bottle hanging on the wall,\\n\n",
    "If that one green bottle should accidentally fall,\\n\n",
    "There'll be no green bottles hanging on the wall.\\n\"\n",
    "should equal \n",
    "There'll be two green bottles hanging on the wall.\\n\\nTwo green bottles hanging on the wall,\\nTwo green bottles hanging on the wall,\\nAnd if one green bottle should accidentally fall,\\nThere'll be one green bottle hanging on the wall.\\n\\nOne green bottle hanging on the wall,\\nOne green bottle hanging on the wall,\\nIf that one green bottle should accidentally fall,\\nThere'll be no green bottles hanging on the wall.\\n\""
   ]
  },
  {
   "cell_type": "markdown",
   "metadata": {},
   "source": [
    "\"Three green bottles hanging on the wall,\\n\n",
    "Three green bottles hanging on the wall,\\nAnd if one green bottle should accidentally fall,\\nthere'll be two green bottles hanging on the wall.\\n\\nTwo green bottles hanging on the wall,\\nTwo green bottles hanging on the wall,\\nAnd if one green bottle should accidentally fall,\\nThere'll be one green bottle hanging on the wall.\\n\\nOne green bottle hanging on the wall,\\nOne green bottle hanging on the wall,\\nIf that one green bottle should accidentally fall,\\nThere'll be no green bottles hanging on the wall.\\n\" should equal \"Three green bottles hanging on the wall,\\nThree green bottles hanging on the wall,\\nAnd if one green bottle should accidentally fall,\\nThere'll be two green bottles hanging on the wall.\\n\\nTwo green bottles hanging on the wall,\\nTwo green bottles hanging on the wall,\\nAnd if one green bottle should accidentally fall,\\nThere'll be one green bottle hanging on the wall.\\n\\nOne green bottle hanging on the wall,\\nOne green bottle hanging on the wall,\\nIf that one green bottle should accidentally fall,\\nThere'll be no green bottles hanging on the wall.\\n\""
   ]
  }
 ],
 "metadata": {
  "kernelspec": {
   "display_name": "base",
   "language": "python",
   "name": "python3"
  },
  "language_info": {
   "codemirror_mode": {
    "name": "ipython",
    "version": 3
   },
   "file_extension": ".py",
   "mimetype": "text/x-python",
   "name": "python",
   "nbconvert_exporter": "python",
   "pygments_lexer": "ipython3",
   "version": "3.11.0"
  }
 },
 "nbformat": 4,
 "nbformat_minor": 2
}

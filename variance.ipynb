{
 "cells": [
  {
   "cell_type": "code",
   "execution_count": 108,
   "metadata": {},
   "outputs": [],
   "source": [
    "def variance(words):\n",
    "    word_len_lst = []\n",
    "    \n",
    "    for val in words:\n",
    "        word_len_lst.append(len(val))\n",
    "    set_word_len_lst = list(set(word_len_lst))\n",
    "    print(word_len_lst)\n",
    "    print(set_word_len_lst)\n",
    "    evalue = sum(word_len_lst)/len(word_len_lst)\n",
    "    ans= []\n",
    "    for i in set_word_len_lst:\n",
    "        ans.append(\n",
    "            word_len_lst.count(i)/len(word_len_lst) * ((i - evalue) ** 2)\n",
    "        )\n",
    "    print(evalue)\n",
    "    print(ans)\n",
    "    return sum(ans)\n"
   ]
  },
  {
   "cell_type": "code",
   "execution_count": 105,
   "metadata": {},
   "outputs": [],
   "source": [
    "def mean(x):\n",
    "    s = 0\n",
    "    for i in range(len(x)):\n",
    "        s = s + x[i]\n",
    "    return s/len(x)\n",
    "\n",
    "def variance2(words):\n",
    "    x = [len(word) for word in words]\n",
    "    print(mean(x))\n",
    "    return round(mean([num**2 for num in x])-mean(x)**2,4)"
   ]
  },
  {
   "cell_type": "code",
   "execution_count": 112,
   "metadata": {},
   "outputs": [
    {
     "name": "stdout",
     "output_type": "stream",
     "text": [
      "[0.625, 0.125, 0.625, 0.125, 0.625, 0.125, 0.625, 0.625]\n",
      "3.75\n"
     ]
    },
    {
     "data": {
      "text/plain": [
       "5.59375"
      ]
     },
     "execution_count": 112,
     "metadata": {},
     "output_type": "execute_result"
    }
   ],
   "source": [
    "variance_scrap(\"The girl put on her beautiful red hat\".split())"
   ]
  },
  {
   "cell_type": "code",
   "execution_count": 110,
   "metadata": {},
   "outputs": [
    {
     "name": "stdout",
     "output_type": "stream",
     "text": [
      "[3, 4, 3, 2, 3, 9, 3, 3]\n",
      "[9, 2, 3, 4]\n",
      "3.75\n",
      "[3.4453125, 0.3828125, 0.3515625, 0.0078125]\n"
     ]
    },
    {
     "data": {
      "text/plain": [
       "4.1875"
      ]
     },
     "execution_count": 110,
     "metadata": {},
     "output_type": "execute_result"
    }
   ],
   "source": [
    "variance(\"The girl put on her beautiful red hat\".split())"
   ]
  }
 ],
 "metadata": {
  "kernelspec": {
   "display_name": "base",
   "language": "python",
   "name": "python3"
  },
  "language_info": {
   "codemirror_mode": {
    "name": "ipython",
    "version": 3
   },
   "file_extension": ".py",
   "mimetype": "text/x-python",
   "name": "python",
   "nbconvert_exporter": "python",
   "pygments_lexer": "ipython3",
   "version": "3.11.0"
  }
 },
 "nbformat": 4,
 "nbformat_minor": 2
}

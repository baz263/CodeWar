{
 "cells": [
  {
   "cell_type": "code",
   "execution_count": 186,
   "metadata": {},
   "outputs": [
    {
     "data": {
      "text/plain": [
       "'cryptogram'"
      ]
     },
     "execution_count": 186,
     "metadata": {},
     "output_type": "execute_result"
    }
   ],
   "source": [
    "import string\n",
    "letter_list = string.ascii_lowercase\n",
    "key ='cryptogram'\n",
    "key.lower()\n"
   ]
  },
  {
   "cell_type": "code",
   "execution_count": 187,
   "metadata": {},
   "outputs": [
    {
     "name": "stdout",
     "output_type": "stream",
     "text": [
      "cryptogrambdefhijklnqsuvwxz\n",
      "cryptogrambdefhijklnqsuvwxz\n"
     ]
    }
   ],
   "source": [
    "unique_characters_list = ''.join(list(dict.fromkeys(key)))\n",
    "for val in letter_list:\n",
    "    if val not in key:\n",
    "        key += val\n",
    "print(key)\n",
    "\n",
    "answer = ''\n",
    "str_input = 'aasbadf'\n",
    "key_shift = 9\n",
    "print(key)\n"
   ]
  },
  {
   "cell_type": "code",
   "execution_count": 188,
   "metadata": {},
   "outputs": [
    {
     "name": "stdout",
     "output_type": "stream",
     "text": [
      "llpqlsv\n"
     ]
    }
   ],
   "source": [
    "for val in str_input:\n",
    "    answer += key[(key.find(val) + 1 + key_shift)%(len(key) +1)]\n",
    "print(answer)"
   ]
  },
  {
   "cell_type": "code",
   "execution_count": null,
   "metadata": {},
   "outputs": [],
   "source": [
    "\n",
    "\n"
   ]
  },
  {
   "cell_type": "code",
   "execution_count": 246,
   "metadata": {},
   "outputs": [
    {
     "name": "stdout",
     "output_type": "stream",
     "text": [
      "n ggka cvssb bfe esz omgdyr bqqva\n"
     ]
    }
   ],
   "source": [
    "def encode(message, key, initShift):\n",
    "    answer = ''\n",
    "    letter_list = string.ascii_lowercase\n",
    "    key.lower()\n",
    "    new_key = ''\n",
    "    for val in key:\n",
    "        if val not in new_key:\n",
    "            new_key += val\n",
    "    for val in letter_list:\n",
    "        if val not in new_key:\n",
    "            new_key += val\n",
    "    key_dict = {letter: index for index, letter in enumerate(new_key,1)}\n",
    "    reverse_dict = {value: key for key, value in key_dict.items()}\n",
    "    for val in message:\n",
    "        if val in new_key and len(new_key) !=0:\n",
    "#            print(f'key dict module initShift {key_dict[val] % initShift}')\n",
    "\n",
    "            if (key_dict[val] + initShift) % len(new_key) == 0:\n",
    "                next_letter = reverse_dict[len(new_key)]\n",
    "            elif (key_dict[val] + initShift) > len(new_key):\n",
    "                next_letter = reverse_dict[(key_dict[val] + initShift) % len(new_key)]\n",
    "            else:\n",
    "                next_letter = reverse_dict[(key_dict[val] + initShift)]\n",
    "            initShift = key_dict[val]\n",
    "            answer += next_letter\n",
    "        else:\n",
    "            answer += val\n",
    "    return answer\n",
    "\n",
    "\n",
    "\n",
    "\n",
    "print(encode('i will never eat any grapes again', 'superkey', 4))\n"
   ]
  },
  {
   "cell_type": "code",
   "execution_count": 204,
   "metadata": {},
   "outputs": [
    {
     "name": "stdout",
     "output_type": "stream",
     "text": [
      "6\n"
     ]
    }
   ],
   "source": [
    "print(-1%7)"
   ]
  },
  {
   "cell_type": "code",
   "execution_count": 212,
   "metadata": {},
   "outputs": [
    {
     "data": {
      "text/plain": [
       "28"
      ]
     },
     "execution_count": 212,
     "metadata": {},
     "output_type": "execute_result"
    }
   ],
   "source": [
    "26- -2"
   ]
  },
  {
   "cell_type": "code",
   "execution_count": 222,
   "metadata": {},
   "outputs": [
    {
     "data": {
      "text/plain": [
       "'i will never eat any grapes again'"
      ]
     },
     "execution_count": 222,
     "metadata": {},
     "output_type": "execute_result"
    }
   ],
   "source": [
    "def decode(message, key, initShift):\n",
    "    initShift = initShift%26\n",
    "    \n",
    "    answer = ''\n",
    "    letter_list = string.ascii_lowercase\n",
    "    key.lower()\n",
    "    new_key = ''\n",
    "    for val in key:\n",
    "        if val not in new_key:\n",
    "            new_key += val\n",
    "    for val in letter_list:\n",
    "        if val not in new_key:\n",
    "            new_key += val\n",
    "    key_dict = {letter: index for index, letter in enumerate(new_key,1)}\n",
    "    reverse_dict = {value: key for key, value in key_dict.items()}\n",
    "    for val in message:\n",
    "        if val in new_key:\n",
    "            if key_dict[val] - initShift > 0:\n",
    "                next_letter = reverse_dict[key_dict[val] - initShift]\n",
    "                initShift = key_dict[next_letter]\n",
    "                answer += next_letter\n",
    "            else:\n",
    "                next_letter = reverse_dict[26 + (key_dict[val] - initShift )]\n",
    "                initShift = key_dict[next_letter]\n",
    "                answer += next_letter\n",
    "\n",
    "        else:\n",
    "            answer +=val\n",
    "   \n",
    "    return answer\n",
    "\n",
    "decode('n ggka cvssb bfe esz omgdyr bqqva', 'superkey', 4)"
   ]
  },
  {
   "cell_type": "code",
   "execution_count": 226,
   "metadata": {},
   "outputs": [
    {
     "data": {
      "text/plain": [
       "'zva nguhbmmgydx.s,ok se,rmafz vpedgbua'"
      ]
     },
     "execution_count": 226,
     "metadata": {},
     "output_type": "execute_result"
    }
   ],
   "source": [
    "decode(\"qvf cmnxmdkjfca.p,ab mf,byokf vjhwpcyb\",\"nqhbfgmi\",28)"
   ]
  },
  {
   "cell_type": "code",
   "execution_count": 224,
   "metadata": {},
   "outputs": [
    {
     "ename": "KeyError",
     "evalue": "0",
     "output_type": "error",
     "traceback": [
      "\u001b[0;31m---------------------------------------------------------------------------\u001b[0m",
      "\u001b[0;31mKeyError\u001b[0m                                  Traceback (most recent call last)",
      "\u001b[1;32m/Users/barry/CodeWars/condi_cipher.ipynb Cell 10\u001b[0m line \u001b[0;36m5\n\u001b[1;32m      <a href='vscode-notebook-cell:/Users/barry/CodeWars/condi_cipher.ipynb#X13sZmlsZQ%3D%3D?line=1'>2</a>\u001b[0m key \u001b[39m=\u001b[39m \u001b[39m'\u001b[39m\u001b[39mvjwqbwmgqbnxnzpujow\u001b[39m\u001b[39m'\u001b[39m\n\u001b[1;32m      <a href='vscode-notebook-cell:/Users/barry/CodeWars/condi_cipher.ipynb#X13sZmlsZQ%3D%3D?line=2'>3</a>\u001b[0m shift \u001b[39m=\u001b[39m \u001b[39m9\u001b[39m\n\u001b[0;32m----> <a href='vscode-notebook-cell:/Users/barry/CodeWars/condi_cipher.ipynb#X13sZmlsZQ%3D%3D?line=4'>5</a>\u001b[0m encode(message, key, shift)\n",
      "\u001b[1;32m/Users/barry/CodeWars/condi_cipher.ipynb Cell 10\u001b[0m line \u001b[0;36m1\n\u001b[1;32m     <a href='vscode-notebook-cell:/Users/barry/CodeWars/condi_cipher.ipynb#X13sZmlsZQ%3D%3D?line=14'>15</a>\u001b[0m \u001b[39mif\u001b[39;00m val \u001b[39min\u001b[39;00m new_key:\n\u001b[1;32m     <a href='vscode-notebook-cell:/Users/barry/CodeWars/condi_cipher.ipynb#X13sZmlsZQ%3D%3D?line=15'>16</a>\u001b[0m     \u001b[39mif\u001b[39;00m (key_dict[val] \u001b[39m+\u001b[39m initShift) \u001b[39m>\u001b[39m \u001b[39mlen\u001b[39m(new_key):\n\u001b[0;32m---> <a href='vscode-notebook-cell:/Users/barry/CodeWars/condi_cipher.ipynb#X13sZmlsZQ%3D%3D?line=16'>17</a>\u001b[0m         next_letter \u001b[39m=\u001b[39m reverse_dict[(key_dict[val] \u001b[39m+\u001b[39m initShift) \u001b[39m%\u001b[39m \u001b[39mlen\u001b[39m(new_key)]\n\u001b[1;32m     <a href='vscode-notebook-cell:/Users/barry/CodeWars/condi_cipher.ipynb#X13sZmlsZQ%3D%3D?line=17'>18</a>\u001b[0m     \u001b[39melse\u001b[39;00m:\n\u001b[1;32m     <a href='vscode-notebook-cell:/Users/barry/CodeWars/condi_cipher.ipynb#X13sZmlsZQ%3D%3D?line=18'>19</a>\u001b[0m         next_letter \u001b[39m=\u001b[39m reverse_dict[(key_dict[val] \u001b[39m+\u001b[39m initShift)]\n",
      "\u001b[0;31mKeyError\u001b[0m: 0"
     ]
    }
   ],
   "source": [
    "message = 'z demgaijnc yygjw,lg o euqoqm,u b,xhy.kfuqktsnl,ri. s zekgh m e e  zljiql'\n",
    "key = 'vjwqbwmgqbnxnzpujow'\n",
    "shift = 9\n",
    "\n",
    "encode(message, key, shift)"
   ]
  },
  {
   "cell_type": "code",
   "execution_count": 244,
   "metadata": {},
   "outputs": [
    {
     "name": "stdout",
     "output_type": "stream",
     "text": [
      "key dict module initShift 1\n",
      "key dict module initShift 6\n",
      "key dict module initShift 1\n",
      "key dict module initShift 6\n",
      "key dict module initShift 1\n",
      "key dict module initShift 0\n",
      "key dict module initShift 6\n",
      "key dict module initShift 2\n",
      "key dict module initShift 0\n",
      "key dict module initShift 7\n",
      "key dict module initShift 11\n",
      "key dict module initShift 0\n",
      "key dict module initShift 7\n",
      "key dict module initShift 2\n",
      "key dict module initShift 1\n",
      "key dict module initShift 1\n",
      "key dict module initShift 7\n",
      "key dict module initShift 6\n",
      "key dict module initShift 4\n",
      "key dict module initShift 12\n",
      "key dict module initShift 4\n",
      "key dict module initShift 1\n",
      "key dict module initShift 4\n",
      "key dict module initShift 2\n",
      "key dict module initShift 0\n",
      "key dict module initShift 5\n",
      "key dict module initShift 4\n",
      "key dict module initShift 1\n",
      "key dict module initShift 7\n",
      "key dict module initShift 21\n",
      "key dict module initShift 18\n",
      "key dict module initShift 12\n",
      "key dict module initShift 4\n",
      "key dict module initShift 1\n",
      "key dict module initShift 4\n",
      "key dict module initShift 24\n",
      "key dict module initShift 8\n",
      "key dict module initShift 6\n",
      "key dict module initShift 1\n",
      "key dict module initShift 20\n",
      "key dict module initShift 4\n",
      "key dict module initShift 10\n",
      "key dict module initShift 7\n",
      "key dict module initShift 4\n",
      "key dict module initShift 7\n",
      "key dict module initShift 5\n",
      "key dict module initShift 6\n",
      "key dict module initShift 5\n",
      "key dict module initShift 0\n",
      "key dict module initShift 10\n",
      "key dict module initShift 2\n",
      "key dict module initShift 2\n",
      "key dict module initShift 0\n",
      "key dict module initShift 4\n",
      "key dict module initShift 2\n"
     ]
    },
    {
     "data": {
      "text/plain": [
       "'h ygroknlzr cygxb,tw i qwdeez,f e,ajh.koqdtirmq,he. f nvujy t r n  vmslsy'"
      ]
     },
     "execution_count": 244,
     "metadata": {},
     "output_type": "execute_result"
    }
   ],
   "source": [
    "message = 'z demgaijnc yygjw,lg o euqoqm,u b,xhy.kfuqktsnl,ri. s zekgh m e e  zljiql'\n",
    "key = 'vjwqbwmgqbnxnzpujow'\n",
    "shift = 9\n",
    "encode(message, key, shift)"
   ]
  }
 ],
 "metadata": {
  "kernelspec": {
   "display_name": "base",
   "language": "python",
   "name": "python3"
  },
  "language_info": {
   "codemirror_mode": {
    "name": "ipython",
    "version": 3
   },
   "file_extension": ".py",
   "mimetype": "text/x-python",
   "name": "python",
   "nbconvert_exporter": "python",
   "pygments_lexer": "ipython3",
   "version": "3.11.5"
  }
 },
 "nbformat": 4,
 "nbformat_minor": 2
}

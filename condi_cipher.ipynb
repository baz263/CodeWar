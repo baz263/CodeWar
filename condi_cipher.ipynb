{
 "cells": [
  {
   "cell_type": "code",
   "execution_count": 7,
   "metadata": {},
   "outputs": [
    {
     "data": {
      "text/plain": [
       "'cryptogram'"
      ]
     },
     "execution_count": 7,
     "metadata": {},
     "output_type": "execute_result"
    }
   ],
   "source": [
    "import string\n",
    "letter_list = string.ascii_lowercase\n",
    "key ='cryptogram'\n",
    "key.lower()\n"
   ]
  },
  {
   "cell_type": "code",
   "execution_count": 8,
   "metadata": {},
   "outputs": [
    {
     "name": "stdout",
     "output_type": "stream",
     "text": [
      "cryptogrambdefhijklnqsuvwxz\n",
      "cryptogrambdefhijklnqsuvwxz\n"
     ]
    }
   ],
   "source": [
    "unique_characters_list = ''.join(list(dict.fromkeys(key)))\n",
    "for val in letter_list:\n",
    "    if val not in key:\n",
    "        key += val\n",
    "print(key)\n",
    "\n",
    "answer = ''\n",
    "str_input = 'aasbadf'\n",
    "key_shift = 9\n",
    "print(key)\n"
   ]
  },
  {
   "cell_type": "code",
   "execution_count": 9,
   "metadata": {},
   "outputs": [
    {
     "name": "stdout",
     "output_type": "stream",
     "text": [
      "llpqlsv\n"
     ]
    }
   ],
   "source": [
    "for val in str_input:\n",
    "    answer += key[(key.find(val) + 1 + key_shift)%(len(key) +1)]\n",
    "print(answer)"
   ]
  },
  {
   "cell_type": "code",
   "execution_count": null,
   "metadata": {},
   "outputs": [],
   "source": [
    "\n",
    "\n"
   ]
  },
  {
   "cell_type": "code",
   "execution_count": 10,
   "metadata": {},
   "outputs": [
    {
     "name": "stdout",
     "output_type": "stream",
     "text": [
      "n ggka cvssb bfe esz omgdyr bqqva\n"
     ]
    }
   ],
   "source": [
    "def encode(message, key, initShift):\n",
    "    answer = ''\n",
    "    letter_list = string.ascii_lowercase\n",
    "    key.lower()\n",
    "    new_key = ''\n",
    "    for val in key:\n",
    "        if val not in new_key:\n",
    "            new_key += val\n",
    "    for val in letter_list:\n",
    "        if val not in new_key:\n",
    "            new_key += val\n",
    "    key_dict = {letter: index for index, letter in enumerate(new_key,1)}\n",
    "    reverse_dict = {value: key for key, value in key_dict.items()}\n",
    "    for val in message:\n",
    "        if val in new_key and len(new_key) !=0:\n",
    "#            print(f'key dict module initShift {key_dict[val] % initShift}')\n",
    "\n",
    "            if (key_dict[val] + initShift) % len(new_key) == 0:\n",
    "                next_letter = reverse_dict[len(new_key)]\n",
    "            elif (key_dict[val] + initShift) > len(new_key):\n",
    "                next_letter = reverse_dict[(key_dict[val] + initShift) % len(new_key)]\n",
    "            else:\n",
    "                next_letter = reverse_dict[(key_dict[val] + initShift)]\n",
    "            initShift = key_dict[val]\n",
    "            answer += next_letter\n",
    "        else:\n",
    "            answer += val\n",
    "    return answer\n",
    "\n",
    "\n",
    "\n",
    "\n",
    "print(encode('i will never eat any grapes again', 'superkey', 4))\n"
   ]
  },
  {
   "cell_type": "code",
   "execution_count": 11,
   "metadata": {},
   "outputs": [
    {
     "name": "stdout",
     "output_type": "stream",
     "text": [
      "6\n"
     ]
    }
   ],
   "source": [
    "print(-1%7)"
   ]
  },
  {
   "cell_type": "code",
   "execution_count": 12,
   "metadata": {},
   "outputs": [
    {
     "data": {
      "text/plain": [
       "28"
      ]
     },
     "execution_count": 12,
     "metadata": {},
     "output_type": "execute_result"
    }
   ],
   "source": [
    "26- -2"
   ]
  },
  {
   "cell_type": "code",
   "execution_count": 13,
   "metadata": {},
   "outputs": [
    {
     "data": {
      "text/plain": [
       "'i will never eat any grapes again'"
      ]
     },
     "execution_count": 13,
     "metadata": {},
     "output_type": "execute_result"
    }
   ],
   "source": [
    "def decode(message, key, initShift):\n",
    "    initShift = initShift%26\n",
    "    \n",
    "    answer = ''\n",
    "    letter_list = string.ascii_lowercase\n",
    "    key.lower()\n",
    "    new_key = ''\n",
    "    for val in key:\n",
    "        if val not in new_key:\n",
    "            new_key += val\n",
    "    for val in letter_list:\n",
    "        if val not in new_key:\n",
    "            new_key += val\n",
    "    key_dict = {letter: index for index, letter in enumerate(new_key,1)}\n",
    "    reverse_dict = {value: key for key, value in key_dict.items()}\n",
    "    for val in message:\n",
    "        if val in new_key:\n",
    "            if key_dict[val] - initShift > 0:\n",
    "                next_letter = reverse_dict[key_dict[val] - initShift]\n",
    "                initShift = key_dict[next_letter]\n",
    "                answer += next_letter\n",
    "            else:\n",
    "                next_letter = reverse_dict[26 + (key_dict[val] - initShift )]\n",
    "                initShift = key_dict[next_letter]\n",
    "                answer += next_letter\n",
    "\n",
    "        else:\n",
    "            answer +=val\n",
    "   \n",
    "    return answer\n",
    "\n",
    "decode('n ggka cvssb bfe esz omgdyr bqqva', 'superkey', 4)"
   ]
  },
  {
   "cell_type": "code",
   "execution_count": 14,
   "metadata": {},
   "outputs": [
    {
     "data": {
      "text/plain": [
       "'zva nguhbmmgydx.s,ok se,rmafz vpedgbua'"
      ]
     },
     "execution_count": 14,
     "metadata": {},
     "output_type": "execute_result"
    }
   ],
   "source": [
    "decode(\"qvf cmnxmdkjfca.p,ab mf,byokf vjhwpcyb\",\"nqhbfgmi\",28)"
   ]
  },
  {
   "cell_type": "code",
   "execution_count": 15,
   "metadata": {},
   "outputs": [
    {
     "data": {
      "text/plain": [
       "'h ygroknlzr cygxb,tw i qwdeez,f e,ajh.koqdtirmq,he. f nvujy t r n  vmslsy'"
      ]
     },
     "execution_count": 15,
     "metadata": {},
     "output_type": "execute_result"
    }
   ],
   "source": [
    "message = 'z demgaijnc yygjw,lg o euqoqm,u b,xhy.kfuqktsnl,ri. s zekgh m e e  zljiql'\n",
    "key = 'vjwqbwmgqbnxnzpujow'\n",
    "shift = 9\n",
    "\n",
    "encode(message, key, shift)"
   ]
  },
  {
   "cell_type": "code",
   "execution_count": 16,
   "metadata": {},
   "outputs": [
    {
     "data": {
      "text/plain": [
       "'h ygroknlzr cygxb,tw i qwdeez,f e,ajh.koqdtirmq,he. f nvujy t r n  vmslsy'"
      ]
     },
     "execution_count": 16,
     "metadata": {},
     "output_type": "execute_result"
    }
   ],
   "source": [
    "message = 'z demgaijnc yygjw,lg o euqoqm,u b,xhy.kfuqktsnl,ri. s zekgh m e e  zljiql'\n",
    "key = 'vjwqbwmgqbnxnzpujow'\n",
    "shift = 9\n",
    "encode(message, key, shift)"
   ]
  },
  {
   "cell_type": "code",
   "execution_count": 18,
   "metadata": {},
   "outputs": [
    {
     "name": "stdout",
     "output_type": "stream",
     "text": [
      "['a', 'p', 'l', 'e', 'b', 'c', 'd', 'f', 'g', 'h', 'i', 'j', 'k', 'm', 'n', 'o', 'q', 'r', 's', 't', 'u', 'v', 'w', 'x', 'y', 'z']\n",
      "0\n",
      "4\n",
      "5\n",
      "6\n",
      "3\n"
     ]
    },
    {
     "data": {
      "text/plain": [
       "'bciki'"
      ]
     },
     "execution_count": 18,
     "metadata": {},
     "output_type": "execute_result"
    }
   ],
   "source": [
    "#from string import ascii_lowercase as LOWER\n",
    "''' answer from CodeWars\n",
    "'''\n",
    "LOWER = \"abcdefghijklmnopqrstuvwxyz\"\n",
    "\n",
    "def encode(message, key, shift, encode=True):\n",
    "    key = sorted(LOWER, key=f\"{key}{LOWER}\".index)\n",
    "    print(key)\n",
    "    result = []\n",
    "    for char in message:\n",
    "        if char in key:\n",
    "            i = key.index(char)\n",
    "            char = key[(i + shift) % 26]\n",
    "            shift = i + 1 if encode else -(key.index(char) + 1)\n",
    "        result.append(char)\n",
    "    return \"\".join(result)\n",
    "    \n",
    "def decode(message, key, shift): \n",
    "    return encode(message, key, -shift, encode=False)\n",
    "\n",
    "encode('abcde', 'apple', 4)"
   ]
  }
 ],
 "metadata": {
  "kernelspec": {
   "display_name": "base",
   "language": "python",
   "name": "python3"
  },
  "language_info": {
   "codemirror_mode": {
    "name": "ipython",
    "version": 3
   },
   "file_extension": ".py",
   "mimetype": "text/x-python",
   "name": "python",
   "nbconvert_exporter": "python",
   "pygments_lexer": "ipython3",
   "version": "3.11.0"
  }
 },
 "nbformat": 4,
 "nbformat_minor": 2
}

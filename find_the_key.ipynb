{
 "cells": [
  {
   "cell_type": "code",
   "execution_count": 81,
   "metadata": {},
   "outputs": [],
   "source": [
    "def find_the_key(message, code):\n",
    "    num_list = []\n",
    "\n",
    "    for character in message:\n",
    "        num_list.append(ord(character)%96)\n",
    "    ans_list = []\n",
    "    for val in range(len(num_list)):\n",
    "        ans_list.append(code[val] - num_list[val])\n",
    "    count = 0\n",
    "    for val in range(1,len(ans_list)+1):\n",
    "        if count == len(ans_list):\n",
    "            ans = ''\n",
    "            for val in possible_code:\n",
    "                ans += str(val)\n",
    "            return int(ans)\n",
    "            #return possible_code\n",
    "        possible_code = ans_list[:val]\n",
    "        print(possible_code)\n",
    "        \n",
    "        for val in range(len(ans_list)):\n",
    "            if ans_list[val] != possible_code[val%len(possible_code)]:\n",
    "                count = 0\n",
    "                print('count broken')\n",
    "                break\n",
    "            else:\n",
    "                print('looks good')\n",
    "                count += 1\n",
    "                "
   ]
  },
  {
   "cell_type": "code",
   "execution_count": 82,
   "metadata": {},
   "outputs": [
    {
     "name": "stdout",
     "output_type": "stream",
     "text": [
      "[1]\n",
      "looks good\n",
      "count broken\n",
      "[1, 9]\n",
      "looks good\n",
      "looks good\n",
      "count broken\n",
      "[1, 9, 3]\n",
      "looks good\n",
      "looks good\n",
      "looks good\n",
      "count broken\n",
      "[1, 9, 3, 9]\n",
      "looks good\n",
      "looks good\n",
      "looks good\n",
      "looks good\n",
      "looks good\n"
     ]
    },
    {
     "data": {
      "text/plain": [
       "1939"
      ]
     },
     "execution_count": 82,
     "metadata": {},
     "output_type": "execute_result"
    }
   ],
   "source": [
    "find_the_key(\"scout\", [20, 12, 18, 30, 21])"
   ]
  },
  {
   "cell_type": "code",
   "execution_count": 67,
   "metadata": {},
   "outputs": [
    {
     "data": {
      "text/plain": [
       "[1, 9, 3, 9, 1]"
      ]
     },
     "execution_count": 67,
     "metadata": {},
     "output_type": "execute_result"
    }
   ],
   "source": [
    "find_the_key(\"masterpiece\", [14, 10, 22, 29, 6, 27, 19, 18, 6, 12, 8])"
   ]
  }
 ],
 "metadata": {
  "kernelspec": {
   "display_name": "base",
   "language": "python",
   "name": "python3"
  },
  "language_info": {
   "codemirror_mode": {
    "name": "ipython",
    "version": 3
   },
   "file_extension": ".py",
   "mimetype": "text/x-python",
   "name": "python",
   "nbconvert_exporter": "python",
   "pygments_lexer": "ipython3",
   "version": "3.11.0"
  }
 },
 "nbformat": 4,
 "nbformat_minor": 2
}

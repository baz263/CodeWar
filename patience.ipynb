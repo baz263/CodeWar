{
 "cells": [
  {
   "cell_type": "code",
   "execution_count": 104,
   "metadata": {},
   "outputs": [],
   "source": [
    "def patience(cards):\n",
    "    card_numbers = []\n",
    "    for card in cards:\n",
    "        if card == 'A':\n",
    "            card_numbers.append(0)\n",
    "        elif card == 'J':\n",
    "            card_numbers.append(10)\n",
    "        elif card == 'Q':\n",
    "            card_numbers.append(11)\n",
    "        elif card == 'K':\n",
    "            card_numbers.append(12)\n",
    "        else:\n",
    "            card_numbers.append(int(card)-1)\n",
    "\n",
    "    unturned = [[], [],[],[], [],[],[], [],[],[], [],[],[]]\n",
    "    turned = [0, 0, 0, 0, 0, 0, 0, 0, 0, 0, 0, 0, 0]\n",
    "    for val in range(len(card_numbers)):\n",
    "        unturned[val % 13].append(card_numbers[val])\n",
    "    active_card = unturned[12].pop()\n",
    "    #turned[active_card] +=1\n",
    "    while True:\n",
    "        turned[active_card] +=1\n",
    "        if turned[12] == 4:\n",
    "            break\n",
    "        active_card = unturned[active_card].pop()\n",
    "\n",
    "\n",
    "    final_count = 0\n",
    "    for val in unturned:\n",
    "        final_count += len(val)\n",
    "    return final_count\n",
    "\n"
   ]
  },
  {
   "cell_type": "code",
   "execution_count": 65,
   "metadata": {},
   "outputs": [],
   "source": [
    "cards = ['J', '5', '7', '2', '6', '3', '4', '4', '2', 'J', '7', 'A', 'Q', 'A', '4', '6', '8', '3', '7', '2', 'K', 'Q', '10', '8', 'J', 'K', '7', '10', 'K', '10', 'K', '8', '9', 'Q', '3', '5', '3', 'A', '10', '5', '6', '2', '5', '4', '9', 'J', '9', '9', 'Q', 'A', '6', '8']"
   ]
  },
  {
   "cell_type": "code",
   "execution_count": 105,
   "metadata": {},
   "outputs": [
    {
     "name": "stdout",
     "output_type": "stream",
     "text": [
      "[[10, 0, 6, 4], [4, 3, 9, 5], [6, 5, 12, 1], [1, 7, 9, 4], [5, 2, 12, 3], [2, 6, 7, 8], [3, 1, 8, 10], [3, 12, 11, 8], [1, 11, 2, 8], [10, 9, 4, 11], [6, 7, 2, 0], [0, 10, 0, 5], [11, 12, 9, 7]]\n",
      "7\n",
      "[0, 0, 0, 0, 0, 0, 0, 1, 0, 0, 0, 0, 0]\n",
      "8\n",
      "[0, 0, 0, 0, 0, 0, 0, 1, 1, 0, 0, 0, 0]\n",
      "8\n",
      "[0, 0, 0, 0, 0, 0, 0, 1, 2, 0, 0, 0, 0]\n",
      "2\n",
      "[0, 0, 1, 0, 0, 0, 0, 1, 2, 0, 0, 0, 0]\n",
      "1\n",
      "[0, 1, 1, 0, 0, 0, 0, 1, 2, 0, 0, 0, 0]\n",
      "5\n",
      "[0, 1, 1, 0, 0, 1, 0, 1, 2, 0, 0, 0, 0]\n",
      "8\n",
      "[0, 1, 1, 0, 0, 1, 0, 1, 3, 0, 0, 0, 0]\n",
      "11\n",
      "[0, 1, 1, 0, 0, 1, 0, 1, 3, 0, 0, 1, 0]\n",
      "5\n",
      "[0, 1, 1, 0, 0, 2, 0, 1, 3, 0, 0, 1, 0]\n",
      "7\n",
      "[0, 1, 1, 0, 0, 2, 0, 2, 3, 0, 0, 1, 0]\n",
      "11\n",
      "[0, 1, 1, 0, 0, 2, 0, 2, 3, 0, 0, 2, 0]\n",
      "0\n",
      "[1, 1, 1, 0, 0, 2, 0, 2, 3, 0, 0, 2, 0]\n",
      "4\n",
      "[1, 1, 1, 0, 1, 2, 0, 2, 3, 0, 0, 2, 0]\n",
      "3\n",
      "[1, 1, 1, 1, 1, 2, 0, 2, 3, 0, 0, 2, 0]\n",
      "4\n",
      "[1, 1, 1, 1, 2, 2, 0, 2, 3, 0, 0, 2, 0]\n",
      "12\n",
      "[1, 1, 1, 1, 2, 2, 0, 2, 3, 0, 0, 2, 1]\n",
      "9\n",
      "[1, 1, 1, 1, 2, 2, 0, 2, 3, 1, 0, 2, 1]\n",
      "11\n",
      "[1, 1, 1, 1, 2, 2, 0, 2, 3, 1, 0, 3, 1]\n",
      "10\n",
      "[1, 1, 1, 1, 2, 2, 0, 2, 3, 1, 1, 3, 1]\n",
      "0\n",
      "[2, 1, 1, 1, 2, 2, 0, 2, 3, 1, 1, 3, 1]\n",
      "6\n",
      "[2, 1, 1, 1, 2, 2, 1, 2, 3, 1, 1, 3, 1]\n",
      "10\n",
      "[2, 1, 1, 1, 2, 2, 1, 2, 3, 1, 2, 3, 1]\n",
      "2\n",
      "[2, 1, 2, 1, 2, 2, 1, 2, 3, 1, 2, 3, 1]\n",
      "12\n",
      "[2, 1, 2, 1, 2, 2, 1, 2, 3, 1, 2, 3, 2]\n",
      "12\n",
      "[2, 1, 2, 1, 2, 2, 1, 2, 3, 1, 2, 3, 3]\n",
      "11\n",
      "[2, 1, 2, 1, 2, 2, 1, 2, 3, 1, 2, 4, 3]\n",
      "0\n",
      "[3, 1, 2, 1, 2, 2, 1, 2, 3, 1, 2, 4, 3]\n",
      "0\n",
      "[4, 1, 2, 1, 2, 2, 1, 2, 3, 1, 2, 4, 3]\n",
      "10\n",
      "[4, 1, 2, 1, 2, 2, 1, 2, 3, 1, 3, 4, 3]\n",
      "7\n",
      "[4, 1, 2, 1, 2, 2, 1, 3, 3, 1, 3, 4, 3]\n",
      "12\n",
      "[4, 1, 2, 1, 2, 2, 1, 3, 3, 1, 3, 4, 4]\n",
      "all 4 kings dealt\n",
      "[[], [4, 3, 9], [6, 5], [1, 7, 9], [5, 2], [2, 6], [3, 1, 8], [3], [1], [10, 9, 4], [6], [], []]\n"
     ]
    },
    {
     "data": {
      "text/plain": [
       "21"
      ]
     },
     "execution_count": 105,
     "metadata": {},
     "output_type": "execute_result"
    }
   ],
   "source": [
    "patience(cards)"
   ]
  }
 ],
 "metadata": {
  "kernelspec": {
   "display_name": "base",
   "language": "python",
   "name": "python3"
  },
  "language_info": {
   "codemirror_mode": {
    "name": "ipython",
    "version": 3
   },
   "file_extension": ".py",
   "mimetype": "text/x-python",
   "name": "python",
   "nbconvert_exporter": "python",
   "pygments_lexer": "ipython3",
   "version": "3.11.0"
  }
 },
 "nbformat": 4,
 "nbformat_minor": 2
}

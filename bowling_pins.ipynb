{
 "cells": [
  {
   "cell_type": "code",
   "execution_count": 20,
   "metadata": {},
   "outputs": [],
   "source": [
    "def bowling_pins(lst, str):\n",
    "    total_array = 'I I I I\\n I I I \\n  I I  \\n   I   '\n",
    "    ans_dict = {9:0,\n",
    "                8:2,\n",
    "                7:4,\n",
    "                6:6,\n",
    "                5:8,\n",
    "                4:10,\n",
    "                3:16,\n",
    "                2:18,\n",
    "                1:24}\n",
    "    for i in lst:\n",
    "        total_array = total_array[:ans_dict[i]] + ' ' + total_array[ans_dict[i]:]\n",
    "    return total_array"
   ]
  },
  {
   "cell_type": "code",
   "execution_count": 22,
   "metadata": {},
   "outputs": [
    {
     "data": {
      "text/plain": [
       "'I I I I\\n I I I \\n        \\n   I   '"
      ]
     },
     "execution_count": 22,
     "metadata": {},
     "output_type": "execute_result"
    }
   ],
   "source": [
    "do_test([2, 3], \"I I I I\\n I I I \\n       \\n   I   \")"
   ]
  }
 ],
 "metadata": {
  "kernelspec": {
   "display_name": "base",
   "language": "python",
   "name": "python3"
  },
  "language_info": {
   "codemirror_mode": {
    "name": "ipython",
    "version": 3
   },
   "file_extension": ".py",
   "mimetype": "text/x-python",
   "name": "python",
   "nbconvert_exporter": "python",
   "pygments_lexer": "ipython3",
   "version": "3.11.0"
  }
 },
 "nbformat": 4,
 "nbformat_minor": 2
}

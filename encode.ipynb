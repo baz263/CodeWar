{
 "cells": [
  {
   "cell_type": "code",
   "execution_count": 27,
   "metadata": {},
   "outputs": [],
   "source": [
    "def encode(message, key):\n",
    "    first_encode = []\n",
    "    for val in message:\n",
    "        first_encode.append(ord(val)%96)\n",
    "    second_encode = []\n",
    "    for val in range(len(first_encode)):\n",
    "        second_encode.append(first_encode[val] + int(str(key)[val%len(str(key))]))\n",
    "        #second_encode.append(first_encode[val] + )\n",
    "    return second_encode\n",
    "        \n",
    "    #print(first_code)"
   ]
  },
  {
   "cell_type": "code",
   "execution_count": 28,
   "metadata": {},
   "outputs": [
    {
     "data": {
      "text/plain": [
       "[20, 12, 18, 30, 21]"
      ]
     },
     "execution_count": 28,
     "metadata": {},
     "output_type": "execute_result"
    }
   ],
   "source": [
    "encode(\"scout\", 1939)"
   ]
  }
 ],
 "metadata": {
  "kernelspec": {
   "display_name": "base",
   "language": "python",
   "name": "python3"
  },
  "language_info": {
   "codemirror_mode": {
    "name": "ipython",
    "version": 3
   },
   "file_extension": ".py",
   "mimetype": "text/x-python",
   "name": "python",
   "nbconvert_exporter": "python",
   "pygments_lexer": "ipython3",
   "version": "3.11.0"
  }
 },
 "nbformat": 4,
 "nbformat_minor": 2
}

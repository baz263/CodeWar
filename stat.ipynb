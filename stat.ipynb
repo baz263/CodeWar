{
 "cells": [
  {
   "cell_type": "code",
   "execution_count": 78,
   "metadata": {},
   "outputs": [
    {
     "name": "stdout",
     "output_type": "stream",
     "text": [
      "boob\n"
     ]
    }
   ],
   "source": [
    "from datetime import datetime\n",
    "import pandas as pd\n",
    "\n",
    "def stat(strg):\n",
    "    if strg == '':\n",
    "        return ''\n",
    "    else:\n",
    "        time_list= []\n",
    "        org_time_list2 = strg.split(',')\n",
    "        left_stripped_list = [s.lstrip() for s in org_time_list2]\n",
    "        date_format = \"%H|%M|%S\"\n",
    "        for run_time in left_stripped_list:\n",
    "            time_object = datetime.strptime(run_time, date_format)\n",
    "            time_list.append(time_object)\n",
    "        time_list_series = pd.Series(time_list)\n",
    "        range = str(time_list_series.max() - time_list_series.min())[6:]\n",
    "        mean = time_list_series.mean().strftime(\"%H|%M|%S\")\n",
    "        range2 = range.replace(':','|')\n",
    "        median = time_list_series.median().strftime(\"%H|%M|%S\")\n",
    "  \n",
    "    return f'Range:{range2} Average: {mean} Median: {median}'\n",
    "print('boob')"
   ]
  }
 ],
 "metadata": {
  "language_info": {
   "name": "python"
  }
 },
 "nbformat": 4,
 "nbformat_minor": 2
}
